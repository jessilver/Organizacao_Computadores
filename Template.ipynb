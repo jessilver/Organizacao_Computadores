{
  "nbformat": 4,
  "nbformat_minor": 0,
  "metadata": {
    "colab": {
      "provenance": [],
      "include_colab_link": true
    },
    "kernelspec": {
      "name": "python3",
      "display_name": "Python 3"
    },
    "language_info": {
      "name": "python"
    }
  },
  "cells": [
    {
      "cell_type": "markdown",
      "metadata": {
        "id": "view-in-github",
        "colab_type": "text"
      },
      "source": [
        "<a href=\"https://colab.research.google.com/github/jessilver/Organizacao_Computadores/blob/develop/Template.ipynb\" target=\"_parent\"><img src=\"https://colab.research.google.com/assets/colab-badge.svg\" alt=\"Open In Colab\"/></a>"
      ]
    },
    {
      "cell_type": "markdown",
      "source": [
        "Faça uma cópia no seu drive\n",
        "\n",
        "Importante: as instalações precisam ser feita toda vez que for iniciada uma nova seção no Colab"
      ],
      "metadata": {
        "id": "o8URFYKiROgk"
      }
    },
    {
      "cell_type": "markdown",
      "source": [
        "# Jessé Eliseu Nunes da Silva"
      ],
      "metadata": {
        "id": "bayUSZq9RAL5"
      }
    },
    {
      "cell_type": "markdown",
      "source": [
        "# Parte 1"
      ],
      "metadata": {
        "id": "QZ95qkPNRA3U"
      }
    },
    {
      "cell_type": "code",
      "source": [
        "# === Interpretador Assembly Simplificado ===\n",
        "\n",
        "# Simple Memory Class\n",
        "class SimpleMemory:\n",
        "    def __init__(self, size_in_words):\n",
        "        self.size = size_in_words\n",
        "        self.mem = [0] * size_in_words\n",
        "\n",
        "    def load_word(self, address):\n",
        "        if 0 <= address < self.size:\n",
        "            return self.mem[address]\n",
        "        else:\n",
        "            raise IndexError(f\"Endereço de memória inválido: {address}\")\n",
        "\n",
        "    def store_word(self, address, value):\n",
        "        if 0 <= address < self.size:\n",
        "            self.mem[address] = value\n",
        "        else:\n",
        "            raise IndexError(f\"Endereço de memória inválido: {address}\")\n",
        "\n",
        "# Register File Class\n",
        "class RegisterFile:\n",
        "    def __init__(self):\n",
        "        self.regs = [0] * 32  # 32 registers\n",
        "\n",
        "    def read(self, reg_num):\n",
        "        if 0 <= reg_num < 32:\n",
        "            return self.regs[reg_num]\n",
        "        else:\n",
        "            raise IndexError(f\"Número de registrador inválido: x{reg_num}\")\n",
        "\n",
        "    def write(self, reg_num, value):\n",
        "        if 0 <= reg_num < 32:\n",
        "            self.regs[reg_num] = value\n",
        "        else:\n",
        "            raise IndexError(f\"Número de registrador inválido: x{reg_num}\")\n",
        "\n",
        "# Convert 32-bit integer to signed\n",
        "def to_signed32(value):\n",
        "    # Assuming value is a Python integer\n",
        "    if value & (1 << 31):\n",
        "        return value - (1 << 32)\n",
        "    return value\n",
        "\n",
        "# Execute single instruction\n",
        "def execute_instruction(instr, regs, mem):\n",
        "    op = instr[\"op\"]\n",
        "    info = f\"Executing {op}\"\n",
        "\n",
        "    if op == \"ADD\":\n",
        "        rd = instr[\"rd\"]\n",
        "        rs1 = instr[\"rs1\"]\n",
        "        rs2 = instr[\"rs2\"]\n",
        "        regs.write(rd, regs.read(rs1) + regs.read(rs2))\n",
        "        info += f\": x{rd} = x{rs1} + x{rs2}\"\n",
        "\n",
        "    elif op == \"SUB\":\n",
        "        rd = instr[\"rd\"]\n",
        "        rs1 = instr[\"rs1\"]\n",
        "        rs2 = instr[\"rs2\"]\n",
        "        regs.write(rd, regs.read(rs1) - regs.read(rs2))\n",
        "        info += f\": x{rd} = x{rs1} - x{rs2}\"\n",
        "\n",
        "    elif op == \"MUL\":\n",
        "        rd = instr[\"rd\"]\n",
        "        rs1 = instr[\"rs1\"]\n",
        "        rs2 = instr[\"rs2\"]\n",
        "        regs.write(rd, regs.read(rs1) * regs.read(rs2))\n",
        "        info += f\": x{rd} = x{rs1} * x{rs2}\"\n",
        "\n",
        "    elif op == \"LOAD\":\n",
        "        rd = instr[\"rd\"]\n",
        "        addr = instr[\"addr\"]\n",
        "        regs.write(rd, mem.load_word(addr))\n",
        "        info += f\": x{rd} = mem[{addr}]\"\n",
        "\n",
        "    elif op == \"STORE\":\n",
        "        rs1 = instr[\"rs1\"]\n",
        "        addr = instr[\"addr\"]\n",
        "        mem.store_word(addr, regs.read(rs1))\n",
        "        info += f\": mem[{addr}] = x{rs1}\"\n",
        "\n",
        "    else:\n",
        "        info += f\": Unknown instruction {op}\"\n",
        "\n",
        "    return info\n",
        "\n",
        "\n",
        "def parse_program(asm_code):\n",
        "    program = []\n",
        "    for line in asm_code.strip().splitlines():\n",
        "        line = line.strip()\n",
        "        if not line or line.startswith(\"#\"):\n",
        "            continue  # ignora linha vazia/comentário\n",
        "\n",
        "        parts = line.replace(\",\", \"\").split()\n",
        "        op = parts[0].upper()\n",
        "\n",
        "        if op in [\"ADD\", \"SUB\", \"MUL\"]:\n",
        "            rd = int(parts[1][1:])   # remove 'x' -> inteiro\n",
        "            rs1 = int(parts[2][1:])\n",
        "            rs2 = int(parts[3][1:])\n",
        "            instr = {\"op\": op, \"rd\": rd, \"rs1\": rs1, \"rs2\": rs2}\n",
        "\n",
        "        elif op == \"LOAD\":\n",
        "            rd = int(parts[1][1:])\n",
        "            addr = int(parts[2])\n",
        "            instr = {\"op\": op, \"rd\": rd, \"addr\": addr}\n",
        "\n",
        "        elif op == \"STORE\":\n",
        "            rs1 = int(parts[1][1:])\n",
        "            addr = int(parts[2])\n",
        "            instr = {\"op\": op, \"rs1\": rs1, \"addr\": addr}\n",
        "\n",
        "        else:\n",
        "            raise ValueError(f\"Instrução desconhecida: {line}\")\n",
        "\n",
        "        program.append(instr)\n",
        "    return program\n",
        "\n",
        "\n",
        "# === Função para rodar um programa inteiro ===\n",
        "def run_program(asm_code, regs, mem):\n",
        "    program = parse_program(asm_code)\n",
        "    cycle = 0\n",
        "    for instr in program:\n",
        "        cycle += 1\n",
        "        info = execute_instruction(instr, regs, mem)\n",
        "        print(f\"Ciclo {cycle}: {instr} -> {info}\")\n",
        "    return regs, mem\n",
        "\n",
        "\n",
        "# === Exemplo de uso ===\n",
        "mem = SimpleMemory(64)\n",
        "regs = RegisterFile()\n",
        "\n",
        "# inicializa registradores e memória\n",
        "regs.write(3, 7)\n",
        "regs.write(5, 2)\n",
        "mem.store_word(10, 123)\n",
        "\n",
        "codigo = \"\"\"\n",
        "LOAD x1, 10\n",
        "ADD  x2, x1, x3\n",
        "MUL  x4, x2, x5\n",
        "STORE x4, 20\n",
        "\"\"\"\n",
        "\n",
        "regs, mem = run_program(codigo, regs, mem)\n",
        "\n",
        "print(\"\\nRegistradores finais:\")\n",
        "for i in range(6):\n",
        "    print(f\"x{i} = {to_signed32(regs.read(i))}\")\n",
        "\n",
        "print(\"Mem[20] =\", mem.load_word(20))"
      ],
      "metadata": {
        "id": "VnL6IjbHQWsT",
        "colab": {
          "base_uri": "https://localhost:8080/"
        },
        "outputId": "b8da5ac4-bbc0-4176-d0fd-65983b165084"
      },
      "execution_count": 3,
      "outputs": [
        {
          "output_type": "stream",
          "name": "stdout",
          "text": [
            "Ciclo 1: {'op': 'LOAD', 'rd': 1, 'addr': 10} -> Executing LOAD: x1 = mem[10]\n",
            "Ciclo 2: {'op': 'ADD', 'rd': 2, 'rs1': 1, 'rs2': 3} -> Executing ADD: x2 = x1 + x3\n",
            "Ciclo 3: {'op': 'MUL', 'rd': 4, 'rs1': 2, 'rs2': 5} -> Executing MUL: x4 = x2 * x5\n",
            "Ciclo 4: {'op': 'STORE', 'rs1': 4, 'addr': 20} -> Executing STORE: mem[20] = x4\n",
            "\n",
            "Registradores finais:\n",
            "x0 = 0\n",
            "x1 = 123\n",
            "x2 = 130\n",
            "x3 = 7\n",
            "x4 = 260\n",
            "x5 = 2\n",
            "Mem[20] = 260\n"
          ]
        }
      ]
    },
    {
      "cell_type": "markdown",
      "source": [
        "# Parte 2"
      ],
      "metadata": {
        "id": "MO4-ijoqRA_o"
      }
    },
    {
      "cell_type": "markdown",
      "source": [
        "# Parte 3"
      ],
      "metadata": {
        "id": "k2UFENATRBHw"
      }
    },
    {
      "cell_type": "markdown",
      "source": [
        "# Parte 4"
      ],
      "metadata": {
        "id": "SvRXw4XsRLHh"
      }
    },
    {
      "cell_type": "markdown",
      "source": [
        "# Parte 5"
      ],
      "metadata": {
        "id": "P7KGnS-iRMX5"
      }
    }
  ]
}