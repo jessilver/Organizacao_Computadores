{
  "nbformat": 4,
  "nbformat_minor": 0,
  "metadata": {
    "colab": {
      "provenance": [],
      "include_colab_link": true
    },
    "kernelspec": {
      "name": "python3",
      "display_name": "Python 3"
    },
    "language_info": {
      "name": "python"
    }
  },
  "cells": [
    {
      "cell_type": "markdown",
      "metadata": {
        "id": "view-in-github",
        "colab_type": "text"
      },
      "source": [
        "<a href=\"https://colab.research.google.com/github/jessilver/Organizacao_Computadores/blob/develop/Template.ipynb\" target=\"_parent\"><img src=\"https://colab.research.google.com/assets/colab-badge.svg\" alt=\"Open In Colab\"/></a>"
      ]
    },
    {
      "cell_type": "markdown",
      "source": [
        "Faça uma cópia no seu drive\n",
        "\n",
        "Importante: as instalações precisam ser feita toda vez que for iniciada uma nova seção no Colab"
      ],
      "metadata": {
        "id": "o8URFYKiROgk"
      }
    },
    {
      "cell_type": "markdown",
      "source": [
        "# Identificação do(s) discente(s)"
      ],
      "metadata": {
        "id": "bayUSZq9RAL5"
      }
    },
    {
      "cell_type": "markdown",
      "source": [
        "# Parte 1"
      ],
      "metadata": {
        "id": "QZ95qkPNRA3U"
      }
    },
    {
      "cell_type": "markdown",
      "source": [
        "# Parte 2"
      ],
      "metadata": {
        "id": "MO4-ijoqRA_o"
      }
    },
    {
      "cell_type": "markdown",
      "source": [
        "# Parte 3"
      ],
      "metadata": {
        "id": "k2UFENATRBHw"
      }
    },
    {
      "cell_type": "markdown",
      "source": [
        "# Parte 4"
      ],
      "metadata": {
        "id": "SvRXw4XsRLHh"
      }
    },
    {
      "cell_type": "markdown",
      "source": [
        "# Parte 5"
      ],
      "metadata": {
        "id": "P7KGnS-iRMX5"
      }
    }
  ]
}