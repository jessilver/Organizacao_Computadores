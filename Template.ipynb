{
  "nbformat": 4,
  "nbformat_minor": 0,
  "metadata": {
    "colab": {
      "provenance": [],
      "include_colab_link": true
    },
    "kernelspec": {
      "name": "python3",
      "display_name": "Python 3"
    },
    "language_info": {
      "name": "python"
    }
  },
  "cells": [
    {
      "cell_type": "markdown",
      "metadata": {
        "id": "view-in-github",
        "colab_type": "text"
      },
      "source": [
        "<a href=\"https://colab.research.google.com/github/jessilver/Organizacao_Computadores/blob/develop/Template.ipynb\" target=\"_parent\"><img src=\"https://colab.research.google.com/assets/colab-badge.svg\" alt=\"Open In Colab\"/></a>"
      ]
    },
    {
      "cell_type": "markdown",
      "source": [
        "Faça uma cópia no seu drive\n",
        "\n",
        "Importante: as instalações precisam ser feita toda vez que for iniciada uma nova seção no Colab"
      ],
      "metadata": {
        "id": "o8URFYKiROgk"
      }
    },
    {
      "cell_type": "markdown",
      "source": [
        "# Jessé Eliseu Nunes da Silva"
      ],
      "metadata": {
        "id": "bayUSZq9RAL5"
      }
    },
    {
      "cell_type": "markdown",
      "source": [
        "# Como usar:\n",
        "\n",
        "As implementações foram separadas e partes, para que a interface reconheça a parte que desesja utilizar bastas \"ativa-la\", trocando o valor da variavel de status de false para true.\n",
        "\n",
        "## Testes:\n",
        "\n",
        "### Teste Parte 1:\n",
        "\n",
        "```\n",
        "# --- Teste da Parte 1: Extensões e Erros ---\n",
        "\n",
        "# 1. Teste de Divisão de Inteiros (DIV)\n",
        "ADDI x1, x0, 40\n",
        "ADDI x2, x0, 5\n",
        "DIV x3, x1, x2  # Deve resultar em 8\n",
        "\n",
        "# 2. Teste de Overflow (deve reportar ERRO e continuar)\n",
        "ADDI x5, x0, 2147483647 # Valor máximo de inteiro 32-bit\n",
        "ADDI x6, x0, 100\n",
        "ADD x7, x5, x6  # Esta operação vai causar overflow\n",
        "\n",
        "# 3. Teste de Divisão por Zero (deve reportar ERRO e continuar)\n",
        "DIV x8, x1, x0 # x0 é sempre zero\n",
        "\n",
        "# 4. Teste de Ponto Flutuante (deve executar após os erros)\n",
        "# Usando os bits de 4.5 (1083179008) e 2.0 (1073741824)\n",
        "ADDI x10, x0, 1083179008 # Carrega bits de 4.5\n",
        "ADDI x11, x0, 1073741824 # Carrega bits de 2.0\n",
        "ADD.S x12, x10, x11 # Soma de floats -> 6.5\n",
        "MUL.S x13, x10, x11 # Multiplicação de floats -> 9.0\n",
        "```\n",
        "\n",
        "### Teste Parte 2:\n",
        "\n",
        "```\n",
        "# --- Teste da Parte 2: Funcionalidades Base ---\n",
        "\n",
        "# Setup: Coloca valores iniciais nos registradores usando ADDI.\n",
        "# (Usamos ADDI por conveniência, mas o foco do teste são as instruções abaixo)\n",
        "ADDI x1, x0, 15\n",
        "ADDI x2, x0, 10\n",
        "ADDI x3, x0, 3\n",
        "\n",
        "# 1. Soma os dois primeiros valores\n",
        "# Requisito: ADD\n",
        "ADD x4, x1, x2\n",
        "\n",
        "# 2. Multiplica o resultado pelo terceiro valor\n",
        "# Requisito: MUL\n",
        "MUL x5, x4, x3\n",
        "\n",
        "# 3. Armazena o resultado final (em x5) no endereço de memória 20\n",
        "# Requisito: STORE (SW)\n",
        "SW x5, 20\n",
        "\n",
        "# 4. Carrega o valor do endereço de memória 20 para outro registrador (x6) para verificação\n",
        "# Requisito: LOAD (LW)\n",
        "LW x6, 20\n",
        "\n",
        "# 5. Usa SUB para uma verificação final\n",
        "# Requisito: SUB\n",
        "SUB x7, x6, x5\n",
        "```\n",
        "\n",
        "### Teste Parte 3:\n",
        "\n",
        "```\n",
        "# --- Teste da Parte 3: Pipeline Básico ---\n",
        "\n",
        "# Sequência de 5 instruções independentes para\n",
        "# observar o preenchimento e esvaziamento do pipeline.\n",
        "\n",
        "ADDI x1, x0, 1\n",
        "ADDI x2, x0, 2\n",
        "ADDI x3, x0, 3\n",
        "ADDI x4, x0, 4\n",
        "ADDI x5, x0, 5\n",
        "```\n",
        "\n",
        "### Teste Parte 4\n",
        "\n",
        "```\n",
        "# --- Teste da Parte 4: Data Hazards ---\n",
        "\n",
        "# 1. Hazard direto (ADD -> SUB)\n",
        "ADDI x1, x0, 10\n",
        "ADDI x2, x0, 20\n",
        "ADD  x3, x1, x2  # x3 é escrito aqui\n",
        "SUB  x4, x3, x5  # x3 é lido imediatamente aqui -> HAZARD!\n",
        "\n",
        "# 2. Hazard de LW (Load-Use)\n",
        "SW   x1, 30      # Armazena 10 no endereço 30\n",
        "LW   x6, 30      # x6 é escrito com o valor da memória aqui\n",
        "ADD  x7, x6, x1  # x6 é lido imediatamente aqui -> HAZARD de LW!\n",
        "```\n",
        "\n",
        "### Teste Parte 5\n",
        "\n",
        "```\n",
        "# --- Teste da Parte 5: Cache e Hierarquia de Memória ---\n",
        "\n",
        "# 1. Primeiro acesso a um endereço: MISS\n",
        "# Escreve 50 no endereço 10\n",
        "ADDI x1, x0, 50\n",
        "SW x1, 10\n",
        "\n",
        "# 2. Acesso ao mesmo endereço: HIT (localidade temporal)\n",
        "LW x2, 10\n",
        "\n",
        "# 3. Acesso a um endereço próximo: pode ser HIT ou MISS dependendo do mapeamento\n",
        "SW x1, 11\n",
        "\n",
        "# 4. Loop para forçar hits (localidade temporal e espacial)\n",
        "# Lê 4 vezes do mesmo endereço (deve ser 1 miss e 3 hits)\n",
        "ADDI x5, x0, 4   # Contador\n",
        "ADDI x6, x0, 20  # Endereço\n",
        "loop_start:\n",
        "LW x7, 20\n",
        "ADDI x5, x5, -1\n",
        "BNE x5, x0, loop_start # (NOTA: BNE não está implementado, isso é conceitual)\n",
        "\n",
        "# 5. Acesso a um endereço que causa conflito (pode remover outro da cache)\n",
        "# Se a cache tem 8 conjuntos, o endereço 18 (18 % 8 = 2) e 10 (10 % 8 = 2)\n",
        "# mapeiam para o mesmo conjunto. Este acesso pode expulsar o bloco do endereço 10.\n",
        "SW x1, 18\n",
        "\n",
        "# 6. Reacesso ao endereço 10: agora será um MISS de novo (miss de conflito)\n",
        "LW x3, 10\n",
        "```"
      ],
      "metadata": {
        "id": "mIFPxLI3mivW"
      }
    },
    {
      "cell_type": "markdown",
      "source": [
        "# Interface"
      ],
      "metadata": {
        "id": "1Nsiu7fd438a"
      }
    },
    {
      "cell_type": "markdown",
      "source": [
        "## Código"
      ],
      "metadata": {
        "id": "QYXYbr0oGbo3"
      }
    },
    {
      "cell_type": "code",
      "source": [
        "# ===================================================================\n",
        "# Bloco 1: Interface do Usuário\n",
        "# VERSÃO FINAL CORRIGIDA: Corrige o AttributeError na inicialização da UI.\n",
        "# ===================================================================\n",
        "\n",
        "import ipywidgets as widgets\n",
        "from IPython.display import display, clear_output\n",
        "\n",
        "class LogColors: INFO, SUCCESS, ERROR, WARNING, RESET = ('\\033[94m', '\\033[92m', '\\033[91m', '\\033[93m', '\\033[0m')\n",
        "\n",
        "# --- Widgets ---\n",
        "code_area = widgets.Textarea(value=\"\", placeholder=\"Escreva seu código assembly aqui...\", description=\"Code:\", layout=widgets.Layout(width=\"100%\", height=\"200px\"))\n",
        "output_area = widgets.Output()\n",
        "\n",
        "part_selector = widgets.RadioButtons(options=[('Ciclo Único (Partes 1 & 2)', 'p1_2'), ('Pipeline (Partes 3, 4 & 5)', 'p3_5')], description='Simular:')\n",
        "hazard_mode_selector = widgets.RadioButtons(options=[('Sem tratamento de hazards', 'none'), ('Stall em hazards', 'stall'), ('Forwarding (Bypass)', 'forwarding')], value='forwarding', description='Hazards:')\n",
        "cache_selector = widgets.RadioButtons(options=[('Com Cache', 'enabled'), ('Sem Cache (Acesso Direto)', 'disabled')], value='enabled', description='Memória:')\n",
        "\n",
        "run_button = widgets.Button(description=\"Run Program\", button_style=\"success\")\n",
        "reg_button = widgets.Button(description=\"Show Registers\", button_style=\"info\")\n",
        "mem_button = widgets.Button(description=\"Show Memory\", button_style=\"info\")\n",
        "cache_button = widgets.Button(description=\"Show Cache Stats\", button_style=\"warning\")\n",
        "start_addr = widgets.IntText(value=0, description=\"Start Addr\")\n",
        "mem_range = widgets.IntText(value=10, description=\"Range\")\n",
        "\n",
        "# --- Handlers ---\n",
        "def run_program_handler(b):\n",
        "    with output_area:\n",
        "        clear_output(wait=True)\n",
        "        print(f\"{LogColors.INFO}Inicializando hardware virtual...{LogColors.RESET}\")\n",
        "\n",
        "    global regs, mem, cache\n",
        "    regs = RegisterFile(); mem = SimpleMemory(64); cache = Cache(num_sets=8, main_memory=mem)\n",
        "    code = code_area.value\n",
        "\n",
        "    clear_output(wait=True); display(ui)\n",
        "    print(f\"{LogColors.INFO}--- Log de Execução ---{LogColors.RESET}\")\n",
        "\n",
        "    selected_part = part_selector.value\n",
        "    hazard_mode = hazard_mode_selector.value\n",
        "    cache_mode = cache_selector.value\n",
        "    part_label = next((label for label, value in part_selector.options if value == selected_part), \"N/A\")\n",
        "    hazard_label = next((label for label, value in hazard_mode_selector.options if value == hazard_mode), \"N/A\")\n",
        "    cache_label = next((label for label, value in cache_selector.options if value == cache_mode), \"N/A\")\n",
        "\n",
        "    print(f\"{LogColors.INFO}Modo de Simulação: {part_label}{LogColors.RESET}\")\n",
        "    if selected_part == 'p3_5':\n",
        "        print(f\"{LogColors.INFO}Tratamento de Hazard: {hazard_label}{LogColors.RESET}\")\n",
        "        print(f\"{LogColors.INFO}Hierarquia de Memória: {cache_label}{LogColors.RESET}\")\n",
        "    print()\n",
        "\n",
        "    if selected_part == 'p1_2':\n",
        "        run_program_single_cycle(code, regs, mem)\n",
        "    elif selected_part == 'p3_5':\n",
        "        run_program_pipeline(code, regs, mem, cache, hazard_mode=hazard_mode, cache_mode=cache_mode)\n",
        "\n",
        "def reg_button_handler(b): show_registers(regs)\n",
        "def mem_button_handler(b): show_memory(mem, start=start_addr.value, rng=mem_range.value)\n",
        "def cache_button_handler(b):\n",
        "    if part_selector.value != 'p3_5' or cache_selector.value == 'disabled':\n",
        "        with output_area: clear_output(wait=True); print(f\"{LogColors.WARNING}A cache não está ativa. As estatísticas não são aplicáveis.{LogColors.RESET}\")\n",
        "    else: show_cache_stats(cache)\n",
        "\n",
        "# --- Lógica de UI Dinâmica (FUNÇÃO CORRIGIDA) ---\n",
        "def on_part_selection_change(change):\n",
        "    # CORREÇÃO: Acessa o valor com a sintaxe de dicionário ['new'],\n",
        "    # que funciona tanto para o objeto 'change' do widget quanto\n",
        "    # para o dicionário passado manualmente.\n",
        "    is_pipeline = (change['new'] == 'p3_5')\n",
        "\n",
        "    hazard_mode_selector.layout.display = 'flex' if is_pipeline else 'none'\n",
        "    cache_selector.layout.display = 'flex' if is_pipeline else 'none'\n",
        "    cache_button.layout.display = 'inline-block' if is_pipeline else 'none'\n",
        "\n",
        "part_selector.observe(on_part_selection_change, names='value')\n",
        "\n",
        "# --- Conexões e Layout ---\n",
        "run_button.on_click(run_program_handler)\n",
        "reg_button.on_click(reg_button_handler)\n",
        "mem_button.on_click(mem_button_handler)\n",
        "cache_button.on_click(cache_button_handler)\n",
        "\n",
        "regs, mem, cache = None, None, None\n",
        "top_controls = widgets.HBox([run_button, reg_button, mem_button, cache_button, start_addr, mem_range])\n",
        "pipeline_options = widgets.VBox([hazard_mode_selector, cache_selector])\n",
        "ui = widgets.VBox([part_selector, pipeline_options, code_area, top_controls, output_area])\n",
        "\n",
        "# Inicializa o estado da UI (chamada manual)\n",
        "on_part_selection_change({'new': part_selector.value})"
      ],
      "metadata": {
        "colab": {
          "base_uri": "https://localhost:8080/",
          "height": 304
        },
        "id": "vmm5MOmW5GwK",
        "outputId": "764b5d26-b377-46a7-a2dc-d96a6cb468f9"
      },
      "execution_count": 179,
      "outputs": [
        {
          "output_type": "error",
          "ename": "AttributeError",
          "evalue": "'dict' object has no attribute 'new'",
          "traceback": [
            "\u001b[0;31m---------------------------------------------------------------------------\u001b[0m",
            "\u001b[0;31mAttributeError\u001b[0m                            Traceback (most recent call last)",
            "\u001b[0;32m/tmp/ipython-input-643819723.py\u001b[0m in \u001b[0;36m<cell line: 0>\u001b[0;34m()\u001b[0m\n\u001b[1;32m     84\u001b[0m \u001b[0;34m\u001b[0m\u001b[0m\n\u001b[1;32m     85\u001b[0m \u001b[0;31m# Inicializa o estado da UI\u001b[0m\u001b[0;34m\u001b[0m\u001b[0;34m\u001b[0m\u001b[0m\n\u001b[0;32m---> 86\u001b[0;31m \u001b[0mon_part_selection_change\u001b[0m\u001b[0;34m(\u001b[0m\u001b[0;34m{\u001b[0m\u001b[0;34m'new'\u001b[0m\u001b[0;34m:\u001b[0m \u001b[0mpart_selector\u001b[0m\u001b[0;34m.\u001b[0m\u001b[0mvalue\u001b[0m\u001b[0;34m}\u001b[0m\u001b[0;34m)\u001b[0m\u001b[0;34m\u001b[0m\u001b[0;34m\u001b[0m\u001b[0m\n\u001b[0m",
            "\u001b[0;32m/tmp/ipython-input-643819723.py\u001b[0m in \u001b[0;36mon_part_selection_change\u001b[0;34m(change)\u001b[0m\n\u001b[1;32m     65\u001b[0m \u001b[0;31m# --- Lógica de UI Dinâmica ---\u001b[0m\u001b[0;34m\u001b[0m\u001b[0;34m\u001b[0m\u001b[0m\n\u001b[1;32m     66\u001b[0m \u001b[0;32mdef\u001b[0m \u001b[0mon_part_selection_change\u001b[0m\u001b[0;34m(\u001b[0m\u001b[0mchange\u001b[0m\u001b[0;34m)\u001b[0m\u001b[0;34m:\u001b[0m\u001b[0;34m\u001b[0m\u001b[0;34m\u001b[0m\u001b[0m\n\u001b[0;32m---> 67\u001b[0;31m     \u001b[0mis_pipeline\u001b[0m \u001b[0;34m=\u001b[0m \u001b[0;34m(\u001b[0m\u001b[0mchange\u001b[0m\u001b[0;34m.\u001b[0m\u001b[0mnew\u001b[0m \u001b[0;34m==\u001b[0m \u001b[0;34m'p3_5'\u001b[0m\u001b[0;34m)\u001b[0m\u001b[0;34m\u001b[0m\u001b[0;34m\u001b[0m\u001b[0m\n\u001b[0m\u001b[1;32m     68\u001b[0m     \u001b[0mhazard_mode_selector\u001b[0m\u001b[0;34m.\u001b[0m\u001b[0mlayout\u001b[0m\u001b[0;34m.\u001b[0m\u001b[0mdisplay\u001b[0m \u001b[0;34m=\u001b[0m \u001b[0;34m'flex'\u001b[0m \u001b[0;32mif\u001b[0m \u001b[0mis_pipeline\u001b[0m \u001b[0;32melse\u001b[0m \u001b[0;34m'none'\u001b[0m\u001b[0;34m\u001b[0m\u001b[0;34m\u001b[0m\u001b[0m\n\u001b[1;32m     69\u001b[0m     \u001b[0mcache_selector\u001b[0m\u001b[0;34m.\u001b[0m\u001b[0mlayout\u001b[0m\u001b[0;34m.\u001b[0m\u001b[0mdisplay\u001b[0m \u001b[0;34m=\u001b[0m \u001b[0;34m'flex'\u001b[0m \u001b[0;32mif\u001b[0m \u001b[0mis_pipeline\u001b[0m \u001b[0;32melse\u001b[0m \u001b[0;34m'none'\u001b[0m\u001b[0;34m\u001b[0m\u001b[0;34m\u001b[0m\u001b[0m\n",
            "\u001b[0;31mAttributeError\u001b[0m: 'dict' object has no attribute 'new'"
          ]
        }
      ]
    },
    {
      "cell_type": "markdown",
      "source": [
        "## Execução"
      ],
      "metadata": {
        "id": "ea4Wf3WDGm-X"
      }
    },
    {
      "cell_type": "code",
      "source": [
        "display(ui)"
      ],
      "metadata": {
        "id": "voKyUs9BGYmY"
      },
      "execution_count": null,
      "outputs": []
    },
    {
      "cell_type": "markdown",
      "source": [
        "# Componetes Comuns"
      ],
      "metadata": {
        "id": "6r2Fv3-f5AJ6"
      }
    },
    {
      "cell_type": "code",
      "source": [
        "# ===================================================================\n",
        "# Bloco 2: Componentes Comuns\n",
        "# Contém as classes, funções de formatação e de exibição que são\n",
        "# usadas por todas as partes do simulador.\n",
        "# ===================================================================\n",
        "\n",
        "import pandas as pd\n",
        "import struct\n",
        "\n",
        "# --- Classe de Cores para o Log ---\n",
        "class LogColors:\n",
        "    INFO = '\\033[94m'\n",
        "    SUCCESS = '\\033[92m'\n",
        "    ERROR = '\\033[91m'\n",
        "    WARNING = '\\033[93m'\n",
        "    RESET = '\\033[0m'\n",
        "\n",
        "# --- Classes do Simulador ---\n",
        "class SimpleMemory:\n",
        "    # ... (código da classe inalterado)\n",
        "    def __init__(self, size_in_words=64):\n",
        "        self.size = size_in_words\n",
        "        self.mem = [0] * size_in_words\n",
        "    def load_word(self, address):\n",
        "        if 0 <= address < self.size: return self.mem[address]\n",
        "        raise IndexError(f\"Endereço de memória inválido: {address}\")\n",
        "    def store_word(self, address, value):\n",
        "        if 0 <= address < self.size: self.mem[address] = value & 0xFFFFFFFF\n",
        "        else: raise IndexError(f\"Endereço de memória inválido: {address}\")\n",
        "\n",
        "class RegisterFile:\n",
        "    # ... (código da classe inalterado)\n",
        "    def __init__(self):\n",
        "        self.regs = [0] * 32\n",
        "    def read(self, reg_num):\n",
        "        if 0 <= reg_num < 32: return self.regs[reg_num]\n",
        "        raise IndexError(f\"Número de registrador inválido: x{reg_num}\")\n",
        "    def write(self, reg_num, value):\n",
        "        if reg_num == 0: return\n",
        "        if 0 < reg_num < 32: self.regs[reg_num] = value & 0xFFFFFFFF\n",
        "        else: raise IndexError(f\"Número de registrador inválido: x{reg_num}\")\n",
        "\n",
        "# --- Funções Auxiliares ---\n",
        "def float_to_int_bits(f): return struct.unpack('I', struct.pack('f', float(f)))[0]\n",
        "def int_bits_to_float(i):\n",
        "    try: return struct.unpack('f', struct.pack('I', i & 0xFFFFFFFF))[0]\n",
        "    except: return float('nan')\n",
        "def to_signed32(value):\n",
        "    value &= 0xFFFFFFFF\n",
        "    return value - (1 << 32) if value & (1 << 31) else value\n",
        "def format_instruction(instr):\n",
        "    # ... (código da função inalterado)\n",
        "    if not instr: return \"\"\n",
        "    op = instr['op']\n",
        "    if op in [\"ADD\", \"SUB\", \"MUL\", \"DIV\", \"ADD.S\", \"MUL.S\"]: return f\"{op:<8} x{instr['rd']}, x{instr['rs1']}, x{instr['rs2']}\"\n",
        "    if op == \"ADDI\": return f\"{op:<8} x{instr['rd']}, x{instr['rs1']}, {instr['imm']}\"\n",
        "    if op == \"LW\": return f\"{op:<8} x{instr['rd']}, {instr['addr']}\"\n",
        "    if op == \"SW\": return f\"{op:<8} x{instr['rs1']}, {instr['addr']}\"\n",
        "    return str(instr)\n",
        "\n",
        "# --- Funções de Exibição ---\n",
        "def show_registers(regs):\n",
        "    # ... (código da função inalterado)\n",
        "    output_widgets = []\n",
        "    for i in range(0, 32, 8):\n",
        "        start_reg, end_reg = i, i + 8\n",
        "        register_values = [regs.read(j) for j in range(start_reg, end_reg)]\n",
        "        data = {\"Reg\": [f\"x{j}\" for j in range(start_reg, end_reg)],\n",
        "                \"Valor Int\": [to_signed32(val) for val in register_values],\n",
        "                \"Valor FP\": [f\"{int_bits_to_float(val):.4f}\" for val in register_values]}\n",
        "        df = pd.DataFrame(data).set_index(\"Reg\")\n",
        "        out = widgets.Output()\n",
        "        with out: display(df)\n",
        "        output_widgets.append(out)\n",
        "    with output_area:\n",
        "        clear_output(wait=True)\n",
        "        display(widgets.HBox(output_widgets))\n",
        "\n",
        "def show_memory(mem, start=0, rng=10):\n",
        "    try:\n",
        "        data = {\"Endereço\": list(range(start, start + rng)), \"Valor\": [mem.load_word(i) for i in range(start, start + rng)]}\n",
        "        df = pd.DataFrame(data)\n",
        "        with output_area: clear_output(wait=True); display(df)\n",
        "    except IndexError as e:\n",
        "        with output_area:\n",
        "            clear_output(wait=True)\n",
        "            print(f\"{LogColors.ERROR}Erro ao acessar memória: {e}{LogColors.RESET}\")"
      ],
      "metadata": {
        "id": "sBD-uQ3k5HK6"
      },
      "execution_count": null,
      "outputs": []
    },
    {
      "cell_type": "markdown",
      "source": [
        "# Parte 2"
      ],
      "metadata": {
        "id": "MO4-ijoqRA_o"
      }
    },
    {
      "cell_type": "code",
      "source": [
        "# ===================================================================\n",
        "# Bloco 3: Lógica da Parte 2 (Simulador de Ciclo Único - Base)\n",
        "# ===================================================================\n",
        "# ... (O código deste bloco permanece o mesmo das respostas anteriores)\n",
        "def execute_instruction_single_cycle(instr, regs, mem):\n",
        "    op = instr[\"op\"]\n",
        "    if op in [\"ADD\", \"SUB\", \"MUL\"]:\n",
        "        rs1_val, rs2_val = to_signed32(regs.read(instr[\"rs1\"])), to_signed32(regs.read(instr[\"rs2\"]))\n",
        "        if op == \"ADD\": result = rs1_val + rs2_val\n",
        "        elif op == \"SUB\": result = rs1_val - rs2_val\n",
        "        else: result = rs1_val * rs2_val\n",
        "        regs.write(instr[\"rd\"], result)\n",
        "    elif op == \"LW\": regs.write(instr[\"rd\"], mem.load_word(instr[\"addr\"]))\n",
        "    elif op == \"SW\": mem.store_word(instr[\"addr\"], regs.read(instr[\"rs1\"]))\n",
        "    else: raise ValueError(f\"Instrução '{op}' não pertence ao conjunto base da Parte 2.\")\n",
        "\n",
        "def parse_program_single_cycle(asm_code):\n",
        "    program = []\n",
        "    for line in asm_code.strip().splitlines():\n",
        "        line = line.strip().split('#')[0]\n",
        "        if not line: continue\n",
        "        parts = line.replace(\",\", \"\").split()\n",
        "        op = parts[0].upper()\n",
        "        if op in [\"ADD\", \"SUB\", \"MUL\"]: instr = {\"op\": op, \"rd\": int(parts[1][1:]), \"rs1\": int(parts[2][1:]), \"rs2\": int(parts[3][1:])}\n",
        "        elif op == \"LW\": instr = {\"op\": op, \"rd\": int(parts[1][1:]), \"addr\": int(parts[2])}\n",
        "        elif op == \"SW\": instr = {\"op\": op, \"rs1\": int(parts[1][1:]), \"addr\": int(parts[2])}\n",
        "        else: raise ValueError(f\"Instrução '{op}' não reconhecida pelo parser base.\")\n",
        "        program.append(instr)\n",
        "    return program\n",
        "\n",
        "def run_program_single_cycle(asm_code, regs, mem):\n",
        "    try: program = parse_program_single_cycle(asm_code)\n",
        "    except ValueError as e: print(f\"{LogColors.ERROR}ERRO DE SINTAXE: {e}{LogColors.RESET}\"); return\n",
        "    for cycle, instr in enumerate(program, 1):\n",
        "        formatted_instr = format_instruction(instr)\n",
        "        try:\n",
        "            execute_instruction_single_cycle(instr, regs, mem)\n",
        "            print(f\"{LogColors.INFO}Ciclo {cycle}:{LogColors.RESET} {formatted_instr:<25} -> {LogColors.SUCCESS}Sucesso!{LogColors.RESET}\")\n",
        "        except (ValueError, IndexError, OverflowError) as e:\n",
        "            print(f\"{LogColors.INFO}Ciclo {cycle}:{LogColors.RESET} {formatted_instr:<25} -> {LogColors.ERROR}ERRO: {e}{LogColors.RESET}\")\n",
        "\n",
        "print(f\"{LogColors.SUCCESS}Funções base de simulação (Parte 2) carregadas.{LogColors.RESET}\")"
      ],
      "metadata": {
        "id": "VnL6IjbHQWsT",
        "colab": {
          "base_uri": "https://localhost:8080/"
        },
        "outputId": "2e0afce7-eb3e-440d-b26d-78862dfabb0f"
      },
      "execution_count": 180,
      "outputs": [
        {
          "output_type": "stream",
          "name": "stdout",
          "text": [
            "\u001b[92mFunções base de simulação (Parte 2) carregadas.\u001b[0m\n"
          ]
        }
      ]
    },
    {
      "cell_type": "markdown",
      "source": [
        "# Parte 1\n"
      ],
      "metadata": {
        "id": "HegEyvb0mZOf"
      }
    },
    {
      "cell_type": "code",
      "source": [
        "# ===================================================================\n",
        "# Bloco 4: Lógica da Parte 1 (Extensões para o Simulador)\n",
        "# ===================================================================\n",
        "# ... (O código deste bloco permanece o mesmo das respostas anteriores)\n",
        "def execute_instruction_single_cycle(instr, regs, mem):\n",
        "    op = instr[\"op\"]\n",
        "    INT32_MIN, INT32_MAX = -2**31, 2**31 - 1\n",
        "    if op in [\"ADD\", \"ADDI\", \"SUB\", \"MUL\", \"DIV\"]:\n",
        "        rs1_val = to_signed32(regs.read(instr[\"rs1\"]))\n",
        "        rs2_val = instr[\"imm\"] if op == \"ADDI\" else to_signed32(regs.read(instr[\"rs2\"]))\n",
        "        op_symbol = {'ADD': '+', 'ADDI': '+', 'SUB': '-', 'MUL': '*', 'DIV': '/'}[op]\n",
        "        if op in [\"ADD\", \"ADDI\"]: result = rs1_val + rs2_val\n",
        "        elif op == \"SUB\": result = rs1_val - rs2_val\n",
        "        elif op == \"MUL\": result = rs1_val * rs2_val\n",
        "        elif op == \"DIV\":\n",
        "            if rs2_val == 0: raise ValueError(\"Divisão por zero\")\n",
        "            if rs1_val == INT32_MIN and rs2_val == -1: raise OverflowError(f\"Overflow na divisão\")\n",
        "            result = int(rs1_val / rs2_val)\n",
        "        if not (INT32_MIN <= result <= INT32_MAX) and op != \"DIV\": raise OverflowError(f\"Overflow na operação: {rs1_val} {op_symbol} {rs2_val}\")\n",
        "        regs.write(instr[\"rd\"], result)\n",
        "    elif op in [\"ADD.S\", \"MUL.S\"]:\n",
        "        float1, float2 = int_bits_to_float(regs.read(instr[\"rs1\"])), int_bits_to_float(regs.read(instr[\"rs2\"]))\n",
        "        result_float = (float1 + float2) if op == \"ADD.S\" else (float1 * float2)\n",
        "        regs.write(instr[\"rd\"], float_to_int_bits(result_float))\n",
        "    elif op == \"LW\": regs.write(instr[\"rd\"], mem.load_word(instr[\"addr\"]))\n",
        "    elif op == \"SW\": mem.store_word(instr[\"addr\"], regs.read(instr[\"rs1\"]))\n",
        "    else: raise ValueError(f\"Instrução desconhecida {op}\")\n",
        "\n",
        "def parse_program_single_cycle(asm_code):\n",
        "    program = []\n",
        "    for line in asm_code.strip().splitlines():\n",
        "        line = line.strip().split('#')[0]\n",
        "        if not line: continue\n",
        "        parts = line.replace(\",\", \"\").split()\n",
        "        op = parts[0].upper()\n",
        "        if op in [\"ADD\", \"SUB\", \"MUL\", \"DIV\", \"ADD.S\", \"MUL.S\"]: instr = {\"op\": op, \"rd\": int(parts[1][1:]), \"rs1\": int(parts[2][1:]), \"rs2\": int(parts[3][1:])}\n",
        "        elif op == \"ADDI\": instr = {\"op\": op, \"rd\": int(parts[1][1:]), \"rs1\": int(parts[2][1:]), \"imm\": int(parts[3])}\n",
        "        elif op == \"LW\": instr = {\"op\": op, \"rd\": int(parts[1][1:]), \"addr\": int(parts[2])}\n",
        "        elif op == \"SW\": instr = {\"op\": op, \"rs1\": int(parts[1][1:]), \"addr\": int(parts[2])}\n",
        "        else: raise ValueError(f\"Instrução desconhecida: {line}\")\n",
        "        program.append(instr)\n",
        "    return program\n",
        "\n",
        "print(f\"{LogColors.SUCCESS}Funções de simulação da Parte 1 e 2 (versão completa) carregadas.{LogColors.RESET}\")"
      ],
      "metadata": {
        "colab": {
          "base_uri": "https://localhost:8080/"
        },
        "id": "iK5WjS-U7jCa",
        "outputId": "8d236e4a-cd98-4e03-e015-eb94a6284092"
      },
      "execution_count": 181,
      "outputs": [
        {
          "output_type": "stream",
          "name": "stdout",
          "text": [
            "\u001b[92mFunções de simulação da Parte 1 e 2 (versão completa) carregadas.\u001b[0m\n"
          ]
        }
      ]
    },
    {
      "cell_type": "markdown",
      "source": [
        "# Parte 3"
      ],
      "metadata": {
        "id": "k2UFENATRBHw"
      }
    },
    {
      "cell_type": "code",
      "source": [
        "# ===================================================================\n",
        "# Bloco 5: Lógica da Parte 3 (Simulador de Pipeline - Base)\n",
        "# ===================================================================\n",
        "# ... (O código deste bloco permanece o mesmo das respostas anteriores)\n",
        "def run_program_pipeline(asm_code, regs, mem, cache, hazard_mode='none'): # Adicionado 'cache' para consistência\n",
        "    try: program = parse_program_single_cycle(asm_code)\n",
        "    except ValueError as e: print(f\"{LogColors.ERROR}ERRO DE SINTAXE: {e}{LogColors.RESET}\"); return\n",
        "    pc, cycle = 0, 0\n",
        "    pipeline_stages = {'IF': None, 'ID': None, 'EX': None, 'MEM_WB': None}\n",
        "    history = []\n",
        "    while pc < len(program) or any(s is not None for s in pipeline_stages.values()):\n",
        "        cycle += 1\n",
        "        prev_stages = pipeline_stages.copy()\n",
        "        pipeline_stages['MEM_WB'] = prev_stages['EX']\n",
        "        pipeline_stages['EX'] = prev_stages['ID']\n",
        "        pipeline_stages['ID'] = prev_stages['IF']\n",
        "        if pc < len(program): pipeline_stages['IF'] = program[pc]; pc += 1\n",
        "        else: pipeline_stages['IF'] = None\n",
        "        history.append({ 'Ciclo': cycle, 'IF': format_instruction(pipeline_stages['IF']), 'ID': format_instruction(pipeline_stages['ID']), 'EX': format_instruction(pipeline_stages['EX']), 'MEM_WB': format_instruction(pipeline_stages['MEM_WB']) })\n",
        "        if cycle > len(program) + 10: print(f\"{LogColors.WARNING}Simulação parada: limite de ciclos.{LogColors.RESET}\"); break\n",
        "    print(f\"\\n{LogColors.INFO}--- Tabela de Execução do Pipeline ---{LogColors.RESET}\")\n",
        "    if history:\n",
        "        df = pd.DataFrame(history).set_index('Ciclo')\n",
        "        with output_area: display(df.fillna(\"\"))\n",
        "    print(f\"\\n{LogColors.INFO}Total de Ciclos (Pipeline):{LogColors.RESET} {cycle}\\n{LogColors.INFO}Total de Ciclos (Ciclo Único seria):{LogColors.RESET} {len(program)}\")\n",
        "\n",
        "print(f\"{LogColors.SUCCESS}Funções base de simulação de Pipeline (Parte 3) carregadas.{LogColors.RESET}\")"
      ],
      "metadata": {
        "colab": {
          "base_uri": "https://localhost:8080/"
        },
        "id": "pa_EKvyt6cXJ",
        "outputId": "dd53bbce-6d9a-44d8-d8a9-bf0a4678c3db"
      },
      "execution_count": 182,
      "outputs": [
        {
          "output_type": "stream",
          "name": "stdout",
          "text": [
            "\u001b[92mFunções base de simulação de Pipeline (Parte 3) carregadas.\u001b[0m\n"
          ]
        }
      ]
    },
    {
      "cell_type": "markdown",
      "source": [
        "# Parte 4"
      ],
      "metadata": {
        "id": "SvRXw4XsRLHh"
      }
    },
    {
      "cell_type": "code",
      "source": [
        "# ===================================================================\n",
        "# Bloco 6: Lógica da Parte 4 (Pipeline com Hazards)\n",
        "# ===================================================================\n",
        "# ... (O código deste bloco permanece o mesmo das respostas anteriores)\n",
        "def run_program_pipeline(asm_code, regs, mem, cache, hazard_mode='forwarding'): # Adicionado 'cache'\n",
        "    try: program = parse_program_single_cycle(asm_code)\n",
        "    except ValueError as e: print(f\"{LogColors.ERROR}ERRO DE SINTAXE: {e}{LogColors.RESET}\"); return\n",
        "    pc, cycle, stalls = 0, 0, 0\n",
        "    pipeline_stages = {'IF': None, 'ID': None, 'EX': None, 'MEM_WB': None}\n",
        "    history, hazard_logs = [], []\n",
        "    while pc < len(program) or any(s is not None for s in pipeline_stages.values()):\n",
        "        cycle += 1\n",
        "        prev_stages = pipeline_stages.copy()\n",
        "        stall_this_cycle = False\n",
        "        instr_wb = prev_stages['MEM_WB']\n",
        "        if instr_wb:\n",
        "            if 'result' in instr_wb: regs.write(instr_wb['rd'], instr_wb['result'])\n",
        "            elif instr_wb['op'] == 'SW': mem.store_word(instr_wb['addr'], regs.read(instr_wb['rs1']))\n",
        "        instr_ex = prev_stages['EX']\n",
        "        if instr_ex:\n",
        "            op = instr_ex['op']\n",
        "            val1 = regs.read(instr_ex.get('rs1', 0))\n",
        "            val2 = regs.read(instr_ex.get('rs2', 0)) if 'rs2' in instr_ex else instr_ex.get('imm', 0)\n",
        "            if hazard_mode == 'forwarding':\n",
        "                instr_mem = prev_stages['MEM_WB']\n",
        "                if instr_mem and 'result' in instr_mem and 'rd' in instr_mem:\n",
        "                    fwd_reg = instr_mem['rd']\n",
        "                    if fwd_reg == instr_ex.get('rs1'): val1 = instr_mem['result']; hazard_logs.append(f\"{LogColors.INFO}Ciclo {cycle}:{LogColors.RESET} {LogColors.SUCCESS}FORWARDING (MEM->EX){LogColors.RESET} para reg x{fwd_reg} na instrução '{format_instruction(instr_ex)}'\")\n",
        "                    if 'rs2' in instr_ex and fwd_reg == instr_ex.get('rs2'): val2 = instr_mem['result']; hazard_logs.append(f\"{LogColors.INFO}Ciclo {cycle}:{LogColors.RESET} {LogColors.SUCCESS}FORWARDING (MEM->EX){LogColors.RESET} para reg x{fwd_reg} na instrução '{format_instruction(instr_ex)}'\")\n",
        "            if op in [\"ADD\", \"ADDI\"]: instr_ex['result'] = to_signed32(val1) + to_signed32(val2)\n",
        "            elif op == \"SUB\": instr_ex['result'] = to_signed32(val1) - to_signed32(val2)\n",
        "            elif op == \"LW\": instr_ex['result'] = mem.load_word(instr_ex['addr'])\n",
        "            pipeline_stages['MEM_WB'] = instr_ex\n",
        "        else: pipeline_stages['MEM_WB'] = None\n",
        "        instr_id = prev_stages['ID']\n",
        "        if instr_id:\n",
        "            src_regs = {instr_id.get('rs1'), instr_id.get('rs2')} - {None}\n",
        "            instr_ex_prev = prev_stages['EX']\n",
        "            if instr_ex_prev and 'rd' in instr_ex_prev and instr_ex_prev['rd'] in src_regs:\n",
        "                hazard_reg = instr_ex_prev['rd']\n",
        "                if instr_ex_prev['op'] == 'LW':\n",
        "                    if hazard_mode != 'none': stall_this_cycle = True; hazard_logs.append(f\"{LogColors.INFO}Ciclo {cycle}:{LogColors.RESET} {LogColors.ERROR}HAZARD DE LOAD-USE detectado{LogColors.RESET} no reg x{hazard_reg}. {LogColors.WARNING}Ação: STALL OBRIGATÓRIO.{LogColors.RESET}\")\n",
        "                    else: hazard_logs.append(f\"{LogColors.INFO}Ciclo {cycle}:{LogColors.RESET} {LogColors.ERROR}HAZARD DE LOAD-USE detectado{LogColors.RESET} no reg x{hazard_reg}. {LogColors.WARNING}Ação: Nenhuma.{LogColors.RESET}\")\n",
        "                else:\n",
        "                    if hazard_mode == 'stall': stall_this_cycle = True; hazard_logs.append(f\"{LogColors.INFO}Ciclo {cycle}:{LogColors.RESET} {LogColors.WARNING}HAZARD DE DADOS (EX->ID) detectado{LogColors.RESET} no reg x{hazard_reg}. {LogColors.WARNING}Ação: STALL.{LogColors.RESET}\")\n",
        "                    elif hazard_mode == 'none': hazard_logs.append(f\"{LogColors.INFO}Ciclo {cycle}:{LogColors.RESET} {LogColors.ERROR}HAZARD DE DADOS (EX->ID) detectado{LogColors.RESET} no reg x{hazard_reg}. {LogColors.WARNING}Ação: Nenhuma.{LogColors.RESET}\")\n",
        "        if stall_this_cycle: stalls += 1; pipeline_stages['EX'] = None\n",
        "        else:\n",
        "            pipeline_stages['EX'] = prev_stages['ID']\n",
        "            pipeline_stages['ID'] = prev_stages['IF']\n",
        "            if pc < len(program): pipeline_stages['IF'] = program[pc]; pc += 1\n",
        "            else: pipeline_stages['IF'] = None\n",
        "        history.append({ 'Ciclo': cycle, 'IF': format_instruction(pipeline_stages['IF']), 'ID': format_instruction(pipeline_stages['ID']), 'EX': f\"*{format_instruction(pipeline_stages['EX'])}\" if stall_this_cycle else format_instruction(pipeline_stages['EX']), 'MEM_WB': format_instruction(pipeline_stages['MEM_WB'])})\n",
        "        if cycle > (len(program) + stalls) * 2 and cycle > 20: print(f\"{LogColors.WARNING}Simulação parada.{LogColors.RESET}\"); break\n",
        "    if hazard_logs: print(f\"\\n{LogColors.INFO}--- Detalhes de Hazards e Forwarding ---{LogColors.RESET}\"); [print(log) for log in hazard_logs]\n",
        "    print(f\"\\n{LogColors.INFO}--- Tabela de Execução do Pipeline ---{LogColors.RESET}\")\n",
        "    if history: df = pd.DataFrame(history).set_index('Ciclo'); display(df.fillna(\"\"))\n",
        "    print(f\"\\n{LogColors.INFO}Total de Ciclos (Pipeline):{LogColors.RESET} {cycle}\\n{LogColors.INFO}Número de Stalls (bolhas):{LogColors.RESET} {stalls}\\n{LogColors.INFO}Total de Ciclos (Ciclo Único seria):{LogColors.RESET} {len(program)}\")\n",
        "\n",
        "print(f\"{LogColors.SUCCESS}Funções de simulação de Pipeline com Hazards (Parte 4) carregadas.{LogColors.RESET}\")"
      ],
      "metadata": {
        "id": "_TKo2IqDCpVE",
        "outputId": "0df5f08d-f34e-4fd1-ce61-f5e907ec8255",
        "colab": {
          "base_uri": "https://localhost:8080/"
        }
      },
      "execution_count": 183,
      "outputs": [
        {
          "output_type": "stream",
          "name": "stdout",
          "text": [
            "\u001b[92mFunções de simulação de Pipeline com Hazards (Parte 4) carregadas.\u001b[0m\n"
          ]
        }
      ]
    },
    {
      "cell_type": "markdown",
      "source": [
        "# Parte 5"
      ],
      "metadata": {
        "id": "P7KGnS-iRMX5"
      }
    },
    {
      "cell_type": "code",
      "source": [
        "# ===================================================================\n",
        "# Bloco 7: Lógica da Parte 5 (Hierarquia de Memória - Cache)\n",
        "# Este bloco define a classe da Cache e suas funcionalidades.\n",
        "# ===================================================================\n",
        "\n",
        "class Cache:\n",
        "    def __init__(self, num_sets, main_memory):\n",
        "        self.num_sets = num_sets\n",
        "        self.main_memory = main_memory\n",
        "        self.sets = [[self._create_cache_line(), self._create_cache_line()] for _ in range(num_sets)]\n",
        "        self.hits = 0\n",
        "        self.misses = 0\n",
        "\n",
        "    def _create_cache_line(self):\n",
        "        return {'valid': 0, 'tag': 0, 'data': 0, 'lru': 0} # lru=0 -> Way 0, lru=1 -> Way 1\n",
        "\n",
        "    def _get_address_parts(self, address):\n",
        "        index = address % self.num_sets\n",
        "        tag = address // self.num_sets\n",
        "        return index, tag\n",
        "\n",
        "    def read(self, address):\n",
        "        index, tag = self._get_address_parts(address)\n",
        "        target_set = self.sets[index]\n",
        "\n",
        "        # 1. Procura por um HIT\n",
        "        for i, line in enumerate(target_set):\n",
        "            if line['valid'] == 1 and line['tag'] == tag:\n",
        "                self.hits += 1\n",
        "                target_set[0]['lru'], target_set[1]['lru'] = (1-i), i # Atualiza LRU\n",
        "                return line['data']\n",
        "\n",
        "        # 2. É um MISS\n",
        "        self.misses += 1\n",
        "        data = self.main_memory.load_word(address)\n",
        "\n",
        "        # Escolhe a via a ser substituída (a que tem lru bit diferente do seu próprio índice)\n",
        "        way_to_replace = next(i for i, line in enumerate(target_set) if line['lru'] != i)\n",
        "\n",
        "        target_set[way_to_replace].update({'valid': 1, 'tag': tag, 'data': data})\n",
        "        target_set[0]['lru'], target_set[1]['lru'] = (1-way_to_replace), way_to_replace # Atualiza LRU\n",
        "\n",
        "        return data\n",
        "\n",
        "    def write(self, address, data):\n",
        "        index, tag = self._get_address_parts(address)\n",
        "        target_set = self.sets[index]\n",
        "        self.main_memory.store_word(address, data) # Write-Through\n",
        "\n",
        "        for i, line in enumerate(target_set):\n",
        "            if line['valid'] == 1 and line['tag'] == tag: # Write-Hit\n",
        "                self.hits += 1\n",
        "                line['data'] = data\n",
        "                target_set[0]['lru'], target_set[1]['lru'] = (1-i), i # Atualiza LRU\n",
        "                return\n",
        "\n",
        "        self.misses += 1 # Write-Miss, No-Write-Allocate\n",
        "\n",
        "    def get_stats(self):\n",
        "        total = self.hits + self.misses\n",
        "        if total == 0: return 0.0, 0.0, 0, 0\n",
        "        hit_rate = (self.hits / total) * 100\n",
        "        miss_rate = (self.misses / total) * 100\n",
        "        return hit_rate, miss_rate, self.hits, self.misses\n",
        "\n",
        "print(f\"{LogColors.SUCCESS}Componente de Cache (Parte 5) carregado.{LogColors.RESET}\")"
      ],
      "metadata": {
        "id": "RK-OUxY1IfjG",
        "outputId": "81d1e40a-1315-474b-b6fa-6f5c9360b79d",
        "colab": {
          "base_uri": "https://localhost:8080/"
        }
      },
      "execution_count": 184,
      "outputs": [
        {
          "output_type": "stream",
          "name": "stdout",
          "text": [
            "\u001b[92mComponente de Cache (Parte 5) carregado.\u001b[0m\n"
          ]
        }
      ]
    },
    {
      "cell_type": "code",
      "source": [
        "# ===================================================================\n",
        "# Bloco 8: Integração Final (Pipeline + Cache)\n",
        "#\n",
        "# VERSÃO FINAL: Redefine a lógica do pipeline para que as instruções\n",
        "# de memória (LW e SW) possam usar a Cache ou acessar a memória\n",
        "# principal diretamente, com base na seleção do usuário.\n",
        "# ===================================================================\n",
        "\n",
        "def run_program_pipeline(asm_code, regs, mem, cache, hazard_mode='forwarding', cache_mode='enabled'):\n",
        "    try: program = parse_program_single_cycle(asm_code)\n",
        "    except ValueError as e: print(f\"{LogColors.ERROR}ERRO DE SINTAXE: {e}{LogColors.RESET}\"); return\n",
        "\n",
        "    pc, cycle, stalls = 0, 0, 0\n",
        "    pipeline_stages = {'IF': None, 'ID': None, 'EX': None, 'MEM_WB': None}\n",
        "    history, hazard_logs = [], []\n",
        "\n",
        "    while pc < len(program) or any(s is not None for s in pipeline_stages.values()):\n",
        "        cycle += 1\n",
        "        prev_stages = pipeline_stages.copy()\n",
        "        stall_this_cycle = False\n",
        "\n",
        "        # ESTÁGIO 4: MEMORY ACCESS & WRITE BACK (MEM_WB)\n",
        "        instr_wb = prev_stages['MEM_WB']\n",
        "        if instr_wb:\n",
        "            op = instr_wb['op']\n",
        "\n",
        "            ### --- CORREÇÃO AQUI: Lógica de acesso à memória condicional --- ###\n",
        "            if op == \"LW\":\n",
        "                address = instr_wb['addr']\n",
        "                # Decide se usa a cache ou a memória principal\n",
        "                if cache_mode == 'enabled':\n",
        "                    instr_wb['result'] = cache.read(address)\n",
        "                else: # Acesso direto à memória\n",
        "                    instr_wb['result'] = mem.load_word(address)\n",
        "                regs.write(instr_wb['rd'], instr_wb['result'])\n",
        "\n",
        "            elif op == \"SW\":\n",
        "                address = instr_wb['addr']\n",
        "                data = regs.read(instr_wb['rs1'])\n",
        "                # Decide se usa a cache ou a memória principal\n",
        "                if cache_mode == 'enabled':\n",
        "                    cache.write(address, data)\n",
        "                else: # Acesso direto à memória\n",
        "                    mem.store_word(address, data)\n",
        "\n",
        "            elif 'result' in instr_wb: # Instruções Aritméticas\n",
        "                regs.write(instr_wb['rd'], instr_wb['result'])\n",
        "            ### --- FIM DA CORREÇÃO --- ###\n",
        "\n",
        "        # ESTÁGIO 3: EXECUTE (EX)\n",
        "        # ... (lógica inalterada) ...\n",
        "        instr_ex = prev_stages['EX']\n",
        "        if instr_ex:\n",
        "            op = instr_ex['op']\n",
        "            val1 = regs.read(instr_ex.get('rs1', 0))\n",
        "            val2 = regs.read(instr_ex.get('rs2', 0)) if 'rs2' in instr_ex else instr_ex.get('imm', 0)\n",
        "            if hazard_mode == 'forwarding':\n",
        "                instr_mem = prev_stages['MEM_WB']\n",
        "                if instr_mem and 'result' in instr_mem and 'rd' in instr_mem and instr_mem['op'] != 'SW':\n",
        "                    fwd_reg = instr_mem['rd']\n",
        "                    if fwd_reg == instr_ex.get('rs1'): val1 = instr_mem['result']; hazard_logs.append(f\"{LogColors.INFO}Ciclo {cycle}:{LogColors.RESET} {LogColors.SUCCESS}FORWARDING (MEM->EX){LogColors.RESET} para reg x{fwd_reg} na instrução '{format_instruction(instr_ex)}'\")\n",
        "                    if 'rs2' in instr_ex and fwd_reg == instr_ex.get('rs2'): val2 = instr_mem['result']; hazard_logs.append(f\"{LogColors.INFO}Ciclo {cycle}:{LogColors.RESET} {LogColors.SUCCESS}FORWARDING (MEM->EX){LogColors.RESET} para reg x{fwd_reg} na instrução '{format_instruction(instr_ex)}'\")\n",
        "            if op in [\"ADD\", \"ADDI\"]: instr_ex['result'] = to_signed32(val1) + to_signed32(val2)\n",
        "            elif op == \"SUB\": instr_ex['result'] = to_signed32(val1) - to_signed32(val2)\n",
        "            pipeline_stages['MEM_WB'] = instr_ex\n",
        "        else: pipeline_stages['MEM_WB'] = None\n",
        "\n",
        "        # ESTÁGIO 2: INSTRUCTION DECODE (ID)\n",
        "        # ... (lógica inalterada) ...\n",
        "        instr_id = prev_stages['ID']\n",
        "        if instr_id:\n",
        "            src_regs = {instr_id.get('rs1'), instr_id.get('rs2')} - {None}\n",
        "            instr_ex_prev = prev_stages['EX']\n",
        "            if instr_ex_prev and 'rd' in instr_ex_prev and instr_ex_prev['rd'] in src_regs:\n",
        "                hazard_reg = instr_ex_prev['rd']\n",
        "                if instr_ex_prev['op'] == 'LW':\n",
        "                    if hazard_mode != 'none': stall_this_cycle = True; hazard_logs.append(f\"{LogColors.INFO}Ciclo {cycle}:{LogColors.RESET} {LogColors.ERROR}HAZARD DE LOAD-USE detectado{LogColors.RESET} no reg x{hazard_reg}. {LogColors.WARNING}Ação: STALL OBRIGATÓRIO.{LogColors.RESET}\")\n",
        "                    else: hazard_logs.append(f\"{LogColors.INFO}Ciclo {cycle}:{LogColors.RESET} {LogColors.ERROR}HAZARD DE LOAD-USE detectado{LogColors.RESET} no reg x{hazard_reg}. {LogColors.WARNING}Ação: Nenhuma.{LogColors.RESET}\")\n",
        "                else:\n",
        "                    if hazard_mode == 'stall': stall_this_cycle = True; hazard_logs.append(f\"{LogColors.INFO}Ciclo {cycle}:{LogColors.RESET} {LogColors.WARNING}HAZARD DE DADOS (EX->ID) detectado{LogColors.RESET} no reg x{hazard_reg}. {LogColors.WARNING}Ação: STALL.{LogColors.RESET}\")\n",
        "                    elif hazard_mode == 'none': hazard_logs.append(f\"{LogColors.INFO}Ciclo {cycle}:{LogColors.RESET} {LogColors.ERROR}HAZARD DE DADOS (EX->ID) detectado{LogColors.RESET} no reg x{hazard_reg}. {LogColors.WARNING}Ação: Nenhuma.{LogColors.RESET}\")\n",
        "\n",
        "        if stall_this_cycle: stalls += 1; pipeline_stages['EX'] = None\n",
        "        else:\n",
        "            pipeline_stages['EX'] = prev_stages['ID']\n",
        "            pipeline_stages['ID'] = prev_stages['IF']\n",
        "            if pc < len(program): pipeline_stages['IF'] = program[pc]; pc += 1\n",
        "            else: pipeline_stages['IF'] = None\n",
        "\n",
        "        history.append({ 'Ciclo': cycle, 'IF': format_instruction(pipeline_stages['IF']), 'ID': format_instruction(pipeline_stages['ID']), 'EX': f\"*{format_instruction(pipeline_stages['EX'])}\" if stall_this_cycle else format_instruction(pipeline_stages['EX']), 'MEM_WB': format_instruction(pipeline_stages['MEM_WB'])})\n",
        "        if cycle > (len(program) + stalls) * 2 and cycle > 30: print(f\"{LogColors.WARNING}Simulação parada.{LogColors.RESET}\"); break\n",
        "\n",
        "    if hazard_logs: print(f\"\\n{LogColors.INFO}--- Detalhes de Hazards e Forwarding ---{LogColors.RESET}\"); [print(log) for log in hazard_logs]\n",
        "    print(f\"\\n{LogColors.INFO}--- Tabela de Execução do Pipeline ---{LogColors.RESET}\")\n",
        "    if history:\n",
        "        df = pd.DataFrame(history).set_index('Ciclo')\n",
        "        with output_area:\n",
        "            display(df.fillna(\"\"))\n",
        "\n",
        "    print(f\"\\n{LogColors.INFO}Total de Ciclos (Pipeline):{LogColors.RESET} {cycle}\\n{LogColors.INFO}Número de Stalls (bolhas):{LogColors.RESET} {stalls}\\n{LogColors.INFO}Total de Ciclos (Ciclo Único seria):{LogColors.RESET} {len(program)}\")\n",
        "\n",
        "print(f\"{LogColors.SUCCESS}Funções de simulação de Pipeline com Cache (Parte 5 - FINAL) carregadas.{LogColors.RESET}\")"
      ],
      "metadata": {
        "id": "r5dJrBjdJaV2",
        "outputId": "26de1545-18a5-4d00-ee8f-ef858566aeab",
        "colab": {
          "base_uri": "https://localhost:8080/"
        }
      },
      "execution_count": 185,
      "outputs": [
        {
          "output_type": "stream",
          "name": "stdout",
          "text": [
            "\u001b[92mFunções de simulação de Pipeline com Cache (Parte 5 - FINAL) carregadas.\u001b[0m\n"
          ]
        }
      ]
    }
  ]
}